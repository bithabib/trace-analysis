{
 "cells": [
  {
   "cell_type": "code",
   "execution_count": 1,
   "metadata": {},
   "outputs": [],
   "source": [
    "import pandas as pd"
   ]
  },
  {
   "cell_type": "code",
   "execution_count": null,
   "metadata": {},
   "outputs": [],
   "source": [
    "file_path = '/home/habib/Desktop/flash_ssd_simulator_web/trace/trace/ssdtrace-00'\n",
    "# Initialize an empty list to store filtered rows\n",
    "filtered_rows = []\n",
    "\n",
    "# Use chunksize to read the file in smaller parts\n",
    "chunksize = 1000000  # Adjust based on memory requirements\n",
    "filtered_df = pd.DataFrame()\n",
    "for chunk in pd.read_csv(\n",
    "    file_path,\n",
    "    delim_whitespace=True,  # Use whitespace as the delimiter\n",
    "    header=None,            # No header in the file\n",
    "    usecols=range(9),       # Only consider the first 9 columns\n",
    "    chunksize=chunksize,    # Read in chunks\n",
    "    engine=\"python\"         # Use the Python engine to handle bad lines gracefully\n",
    "):\n",
    "    filtered_df = pd.concat([filtered_df,chunk])\n",
    "    \n",
    "print(filtered_df.head())"
   ]
  },
  {
   "cell_type": "code",
   "execution_count": null,
   "metadata": {},
   "outputs": [],
   "source": [
    "import matplotlib.pyplot as plt\n",
    "\n",
    "operationType = filtered_df[6].value_counts()\n",
    "\n",
    "plt.figure(figsize=(10, 5))\n",
    "operationType.plot(kind='bar', color='skyblue', edgecolor='black')\n",
    "\n",
    "# Add title and labels\n",
    "plt.title('Operation Type Distribution')\n",
    "plt.xlabel('Operation Type')\n",
    "plt.ylabel('Frequency')\n",
    "plt.show()"
   ]
  }
 ],
 "metadata": {
  "kernelspec": {
   "display_name": "Python 3",
   "language": "python",
   "name": "python3"
  },
  "language_info": {
   "codemirror_mode": {
    "name": "ipython",
    "version": 3
   },
   "file_extension": ".py",
   "mimetype": "text/x-python",
   "name": "python",
   "nbconvert_exporter": "python",
   "pygments_lexer": "ipython3",
   "version": "3.8.10"
  }
 },
 "nbformat": 4,
 "nbformat_minor": 2
}
