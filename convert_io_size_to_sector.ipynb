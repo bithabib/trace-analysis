{
 "cells": [
  {
   "cell_type": "code",
   "execution_count": 3,
   "metadata": {},
   "outputs": [],
   "source": [
    "import numpy as np\n",
    "import pandas as pd\n",
    "import matplotlib.pyplot as plt"
   ]
  },
  {
   "cell_type": "code",
   "execution_count": 4,
   "metadata": {},
   "outputs": [
    {
     "name": "stdout",
     "output_type": "stream",
     "text": [
      "done\n"
     ]
    }
   ],
   "source": [
    "file_path = 'randrw_uniform_trace.txt'\n",
    "write_trace_list = []\n",
    "with open(file_path, 'r', encoding='utf-8') as input_file:\n",
    "    \n",
    "    # read the line until 2198512\n",
    "    for i in range(1598512):\n",
    "        line = input_file.readline()\n",
    "        # add read and write operation to the line\n",
    "        # line = 'W ' + line\n",
    "        # replace the last 4 characters with 8\n",
    "        if line:\n",
    "            line = line[:-5] + '8\\n'\n",
    "            write_trace_list.append(line)\n",
    "        else:\n",
    "            break\n",
    "        \n",
    "    # save the write_trace_list to a txt file\n",
    "    with open('trace_files/v5/habib_trace/uniform_random_1598512', 'w', encoding='utf-8') as output_file:\n",
    "        output_file.writelines(write_trace_list)\n",
    "        output_file.close()\n",
    "    input_file.close()\n",
    "print('done')"
   ]
  },
  {
   "cell_type": "code",
   "execution_count": 19,
   "metadata": {},
   "outputs": [
    {
     "name": "stdout",
     "output_type": "stream",
     "text": [
      "done\n"
     ]
    }
   ],
   "source": [
    "import numpy as np\n",
    "import pandas as pd\n",
    "import matplotlib.pyplot as plt\n",
    "file_path = '/home/habib/Desktop/trace_include_pareto/habib_trace/randrw_uniform_trace.txt'\n",
    "write_trace_list = []\n",
    "with open(file_path, 'r', encoding='utf-8') as input_file:\n",
    "    while True:\n",
    "        try:\n",
    "            line = next(input_file)\n",
    "            # line = next(input_file)\n",
    "            if not line:\n",
    "                break\n",
    "            line = line.rstrip('\\n')\n",
    "            line = line.strip()\n",
    "            line_split = line.split(' ')            \n",
    "            rline = line_split[0] +\" \"+ str(int((int(line_split[1])/512))) + '\\n'\n",
    "            write_trace_list.append(rline)\n",
    "        except StopIteration:\n",
    "            break\n",
    "    # save the write_trace_list to a txt file\n",
    "    with open('/home/habib/Desktop/trace_include_pareto/habib_trace/c_randrw_uniform_trace.txt', 'w', encoding='utf-8') as output_file:\n",
    "        output_file.writelines(write_trace_list)\n",
    "        output_file.close()\n",
    "    input_file.close()\n",
    "    input_file.close()\n",
    "    print('done')\n"
   ]
  },
  {
   "cell_type": "code",
   "execution_count": 11,
   "metadata": {},
   "outputs": [
    {
     "name": "stdout",
     "output_type": "stream",
     "text": [
      "7372672\n",
      "0\n",
      "3.51556396484375gb\n"
     ]
    }
   ],
   "source": [
    "# write_trace_list = [] to pd dataframe\n",
    "df = pd.DataFrame(write_trace_list)\n",
    "df['lba'] = df['lba'].astype(int)\n",
    "# get the max lba\n",
    "max_lba = df['lba'].max()\n",
    "print(max_lba)\n",
    "# min lba\n",
    "min_lba = df['lba'].min()\n",
    "print(min_lba)\n",
    "\n",
    "# get the ssd size each logical page is 8KB\n",
    "ssd_size = max_lba*512 / 1024 / 1024 / 1024\n",
    "print(str(ssd_size)+\"gb\")"
   ]
  },
  {
   "cell_type": "code",
   "execution_count": null,
   "metadata": {},
   "outputs": [],
   "source": [
    "import numpy as np\n",
    "import pandas as pd\n",
    "import matplotlib.pyplot as plt\n",
    "file_path = '/home/habib/Desktop/trace_include_pareto/habib_trace/randrw_uniform_trace.txt'\n",
    "write_trace_list = []\n",
    "with open(file_path, 'r', encoding='utf-8') as input_file:\n",
    "    \n",
    "    fields_name = ['lba', 'io_s']  \n",
    "    \n",
    "    while True:\n",
    "        return_line = {}\n",
    "        try:\n",
    "            line = next(input_file)\n",
    "            # line = next(input_file)\n",
    "            if not line:\n",
    "                break\n",
    "            line = line.rstrip('\\n')\n",
    "            line = line.strip()\n",
    "            line_split = line.split(' ')            \n",
    "            for index, field_value in enumerate(line_split):\n",
    "                return_line[fields_name[index]] = field_value\n",
    "            write_trace_list.append(return_line)\n",
    "        except StopIteration:\n",
    "            break\n",
    "    input_file.close()\n",
    "    print('done')"
   ]
  }
 ],
 "metadata": {
  "kernelspec": {
   "display_name": "Python 3 (ipykernel)",
   "language": "python",
   "name": "python3"
  },
  "language_info": {
   "codemirror_mode": {
    "name": "ipython",
    "version": 3
   },
   "file_extension": ".py",
   "mimetype": "text/x-python",
   "name": "python",
   "nbconvert_exporter": "python",
   "pygments_lexer": "ipython3",
   "version": "3.8.10"
  }
 },
 "nbformat": 4,
 "nbformat_minor": 2
}
