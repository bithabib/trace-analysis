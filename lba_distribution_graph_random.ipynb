{
 "cells": [
  {
   "cell_type": "code",
   "execution_count": 1,
   "metadata": {},
   "outputs": [],
   "source": [
    "import numpy as np\n",
    "import pandas as pd\n",
    "import matplotlib.pyplot as plt\n"
   ]
  },
  {
   "cell_type": "code",
   "execution_count": 5,
   "metadata": {},
   "outputs": [
    {
     "name": "stdout",
     "output_type": "stream",
     "text": [
      "total io: 111478480\n",
      "unique lba: 625090\n",
      "trace length: 13934705\n"
     ]
    }
   ],
   "source": [
    "file_path = 'trace_files/v5/habib_trace/pareto_trace.log'\n",
    "write_trace_list = []\n",
    "with open(file_path, 'r', encoding='utf-8') as input_file:\n",
    "    \n",
    "    fields_name = ['lba', 'io_s']  \n",
    "    \n",
    "    while True:\n",
    "        return_line = {}\n",
    "        try:\n",
    "            line = next(input_file)\n",
    "            # line = next(input_file)\n",
    "            if not line:\n",
    "                break\n",
    "            line = line.rstrip('\\n')\n",
    "            line = line.strip()\n",
    "            line_split = line.split(' ')            \n",
    "            for index, field_value in enumerate(line_split):\n",
    "                return_line[fields_name[index]] = field_value\n",
    "            write_trace_list.append(return_line)\n",
    "        \n",
    "            \n",
    "        except StopIteration:\n",
    "            break\n",
    "df = pd.DataFrame(write_trace_list)\n",
    "# sum of total io values\n",
    "total_io = df['io_s'].astype(int).sum()\n",
    "print('total io:', total_io)\n",
    "# number unique lba \n",
    "unique_lba = df['lba'].nunique()\n",
    "print('unique lba:', unique_lba)\n",
    "# length of trace\n",
    "trace_length = len(df)\n",
    "print('trace length:', trace_length)"
   ]
  },
  {
   "cell_type": "code",
   "execution_count": 8,
   "metadata": {},
   "outputs": [],
   "source": [
    "\n",
    "\n",
    "# plot a dot chart\n",
    "plt.figure(figsize=(10, 5))\n",
    "# x axis will be the 1,2,3,4,5 sequence and y axis will be the lba \n",
    "plt.plot(df['lba'], label='lba')\n",
    "plt.xlabel('Sequence')\n",
    "plt.ylabel('lba')\n",
    "plt.title('lba')\n",
    "plt.legend()\n",
    "plt.show()\n"
   ]
  },
  {
   "cell_type": "code",
   "execution_count": 61,
   "metadata": {},
   "outputs": [
    {
     "data": {
      "image/png": "[encoded data removed]",
      "text/plain": [
       "<Figure size 1000x600 with 1 Axes>"
      ]
     },
     "metadata": {},
     "output_type": "display_data"
    }
   ],
   "source": [
    "# Extract 'lba' values\n",
    "# Extract 'lba' values\n",
    "lba_values = df['lba']\n",
    "\n",
    "# Generate sequence for x-axis\n",
    "sequence = range(1, len(df) + 1)\n",
    "\n",
    "# Create a dot plot\n",
    "plt.figure(figsize=(10, 6))\n",
    "plt.plot(sequence, lba_values, '.', color='blue')\n",
    "\n",
    "# Add labels and title\n",
    "plt.xlabel('Sequence')\n",
    "plt.ylabel('LBA')\n",
    "plt.title('Dot Plot Example')\n",
    "\n",
    "# Show plot\n",
    "plt.grid(True)\n",
    "plt.show()"
   ]
  },
  {
   "cell_type": "code",
   "execution_count": 62,
   "metadata": {},
   "outputs": [],
   "source": [
    "# lbas = df['lba']\n",
    "\n",
    "# # Count occurrences of each LBA\n",
    "# lba_counts = lbas.value_counts()\n",
    "\n",
    "# # Plot the distribution\n",
    "# plt.figure(figsize=(10, 6))\n",
    "# lba_counts.plot(kind='bar')\n",
    "# plt.xlabel('LBA')\n",
    "# plt.ylabel('Frequency')\n",
    "# plt.title('LBA Distribution')\n",
    "# plt.show()"
   ]
  },
  {
   "cell_type": "code",
   "execution_count": 63,
   "metadata": {},
   "outputs": [
    {
     "data": {
      "text/plain": [
       "lba\n",
       "278528     4\n",
       "2906464    4\n",
       "2906848    4\n",
       "2906816    4\n",
       "2906784    4\n",
       "          ..\n",
       "3320352    1\n",
       "3320320    1\n",
       "3320288    1\n",
       "3320256    1\n",
       "3321792    1\n",
       "Name: count, Length: 120597, dtype: int64"
      ]
     },
     "execution_count": 63,
     "metadata": {},
     "output_type": "execute_result"
    }
   ],
   "source": [
    "lbas = df['lba']\n",
    "\n",
    "# Count occurrences of each LBA\n",
    "lba_counts = lbas.value_counts()\n",
    "lba_counts\n",
    "# Plot the distribution\n",
    "# plt.figure(figsize=(10, 6))\n",
    "# lba_counts.plot(kind='bar')\n",
    "# plt.xlabel('LBA')\n",
    "# plt.ylabel('Frequency')\n",
    "# plt.title('LBA Distribution')\n",
    "# plt.show()"
   ]
  },
  {
   "cell_type": "code",
   "execution_count": 64,
   "metadata": {},
   "outputs": [
    {
     "data": {
      "text/html": [
       "<div>\n",
       "<style scoped>\n",
       "    .dataframe tbody tr th:only-of-type {\n",
       "        vertical-align: middle;\n",
       "    }\n",
       "\n",
       "    .dataframe tbody tr th {\n",
       "        vertical-align: top;\n",
       "    }\n",
       "\n",
       "    .dataframe thead th {\n",
       "        text-align: right;\n",
       "    }\n",
       "</style>\n",
       "<table border=\"1\" class=\"dataframe\">\n",
       "  <thead>\n",
       "    <tr style=\"text-align: right;\">\n",
       "      <th></th>\n",
       "      <th>io_s</th>\n",
       "    </tr>\n",
       "    <tr>\n",
       "      <th>lba</th>\n",
       "      <th></th>\n",
       "    </tr>\n",
       "  </thead>\n",
       "  <tbody>\n",
       "    <tr>\n",
       "      <th>0</th>\n",
       "      <td>8192</td>\n",
       "    </tr>\n",
       "    <tr>\n",
       "      <th>1000000</th>\n",
       "      <td>16384</td>\n",
       "    </tr>\n",
       "    <tr>\n",
       "      <th>1000032</th>\n",
       "      <td>16384</td>\n",
       "    </tr>\n",
       "    <tr>\n",
       "      <th>1000064</th>\n",
       "      <td>16384</td>\n",
       "    </tr>\n",
       "    <tr>\n",
       "      <th>1000096</th>\n",
       "      <td>16384</td>\n",
       "    </tr>\n",
       "    <tr>\n",
       "      <th>...</th>\n",
       "      <td>...</td>\n",
       "    </tr>\n",
       "    <tr>\n",
       "      <th>999840</th>\n",
       "      <td>16384</td>\n",
       "    </tr>\n",
       "    <tr>\n",
       "      <th>999872</th>\n",
       "      <td>16384</td>\n",
       "    </tr>\n",
       "    <tr>\n",
       "      <th>999904</th>\n",
       "      <td>16384</td>\n",
       "    </tr>\n",
       "    <tr>\n",
       "      <th>999936</th>\n",
       "      <td>16384</td>\n",
       "    </tr>\n",
       "    <tr>\n",
       "      <th>999968</th>\n",
       "      <td>16384</td>\n",
       "    </tr>\n",
       "  </tbody>\n",
       "</table>\n",
       "<p>120597 rows × 1 columns</p>\n",
       "</div>"
      ],
      "text/plain": [
       "          io_s\n",
       "lba           \n",
       "0         8192\n",
       "1000000  16384\n",
       "1000032  16384\n",
       "1000064  16384\n",
       "1000096  16384\n",
       "...        ...\n",
       "999840   16384\n",
       "999872   16384\n",
       "999904   16384\n",
       "999936   16384\n",
       "999968   16384\n",
       "\n",
       "[120597 rows x 1 columns]"
      ]
     },
     "execution_count": 64,
     "metadata": {},
     "output_type": "execute_result"
    }
   ],
   "source": [
    "# now create a graph based on count of each lba create a column with count\n",
    "glba = df.groupby('lba')\n",
    "\n",
    "glba.first()"
   ]
  },
  {
   "cell_type": "code",
   "execution_count": null,
   "metadata": {},
   "outputs": [],
   "source": []
  }
 ],
 "metadata": {
  "kernelspec": {
   "display_name": "Python 3",
   "language": "python",
   "name": "python3"
  },
  "language_info": {
   "codemirror_mode": {
    "name": "ipython",
    "version": 3
   },
   "file_extension": ".py",
   "mimetype": "text/x-python",
   "name": "python",
   "nbconvert_exporter": "python",
   "pygments_lexer": "ipython3",
   "version": "3.8.10"
  }
 },
 "nbformat": 4,
 "nbformat_minor": 2
}
