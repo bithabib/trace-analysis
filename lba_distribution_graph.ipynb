{
 "cells": [
  {
   "cell_type": "code",
   "execution_count": 26,
   "metadata": {},
   "outputs": [],
   "source": [
    "import numpy as np\n",
    "import pandas as pd\n",
    "import matplotlib.pyplot as plt\n"
   ]
  },
  {
   "cell_type": "code",
   "execution_count": 27,
   "metadata": {},
   "outputs": [],
   "source": [
    "file_path = 'trace_files/test_trace.txt'\n",
    "write_trace_list = []\n",
    "with open(file_path, 'r', encoding='utf-8') as input_file:\n",
    "    \n",
    "    fields_name = ['lba', 'io_s']  \n",
    "    \n",
    "    while True:\n",
    "        return_line = {}\n",
    "        try:\n",
    "            line = next(input_file)\n",
    "            # line = next(input_file)\n",
    "            if not line:\n",
    "                break\n",
    "            line = line.rstrip('\\n')\n",
    "            line = line.strip()\n",
    "            line_split = line.split(' ')            \n",
    "            for index, field_value in enumerate(line_split):\n",
    "                return_line[fields_name[index]] = field_value\n",
    "            write_trace_list.append(return_line)\n",
    "        \n",
    "            \n",
    "        except StopIteration:\n",
    "            break"
   ]
  },
  {
   "cell_type": "code",
   "execution_count": 28,
   "metadata": {},
   "outputs": [
    {
     "name": "stdout",
     "output_type": "stream",
     "text": [
      "total io: 9527296\n"
     ]
    }
   ],
   "source": [
    "# Sequential Total IO Size = 11363045376\n",
    "# Zipf Trace Total IO Size = 9590194176\n",
    "# RandomTrace Total IOSize = 5348737024\n",
    "df = pd.DataFrame(write_trace_list)\n",
    "# sum of total io values\n",
    "total_io = df['io_s'].astype(int).sum()\n",
    "print('total io:', total_io)"
   ]
  },
  {
   "cell_type": "code",
   "execution_count": 29,
   "metadata": {},
   "outputs": [],
   "source": [
    "\n",
    "\n",
    "# # plot a dot chart\n",
    "# plt.figure(figsize=(10, 5))\n",
    "# # x axis will be the 1,2,3,4,5 sequence and y axis will be the lba \n",
    "# plt.plot(df['lba'], label='lba')\n",
    "# plt.xlabel('Sequence')\n",
    "# plt.ylabel('lba')\n",
    "# plt.title('lba')\n",
    "# plt.legend()\n",
    "# plt.show()\n"
   ]
  },
  {
   "cell_type": "code",
   "execution_count": 30,
   "metadata": {},
   "outputs": [],
   "source": [
    "# Extract 'lba' values\n",
    "# Extract 'lba' values\n",
    "# lba_values = df['lba']\n",
    "\n",
    "# # Generate sequence for x-axis\n",
    "# sequence = range(1, len(df) + 1)\n",
    "\n",
    "# # Create a dot plot\n",
    "# plt.figure(figsize=(10, 6))\n",
    "# plt.plot(sequence, lba_values, 'o', color='blue')\n",
    "\n",
    "# # Add labels and title\n",
    "# plt.xlabel('Sequence')\n",
    "# plt.ylabel('LBA')\n",
    "# plt.title('Dot Plot Example')\n",
    "\n",
    "# # Show plot\n",
    "# plt.grid(True)\n",
    "# plt.show()"
   ]
  },
  {
   "cell_type": "code",
   "execution_count": 31,
   "metadata": {},
   "outputs": [],
   "source": [
    "# lbas = df['lba']\n",
    "\n",
    "# # Count occurrences of each LBA\n",
    "# lba_counts = lbas.value_counts()\n",
    "\n",
    "# # Plot the distribution\n",
    "# plt.figure(figsize=(10, 6))\n",
    "# lba_counts.plot(kind='bar')\n",
    "# plt.xlabel('LBA')\n",
    "# plt.ylabel('Frequency')\n",
    "# plt.title('LBA Distribution')\n",
    "# plt.show()"
   ]
  },
  {
   "cell_type": "code",
   "execution_count": 32,
   "metadata": {},
   "outputs": [
    {
     "data": {
      "text/plain": [
       "lba\n",
       "3864       5\n",
       "3407872    4\n",
       "5804640    3\n",
       "5804608    3\n",
       "5804672    3\n",
       "          ..\n",
       "5808160    1\n",
       "5808192    1\n",
       "5802688    1\n",
       "5808224    1\n",
       "0          1\n",
       "Name: count, Length: 270, dtype: int64"
      ]
     },
     "execution_count": 32,
     "metadata": {},
     "output_type": "execute_result"
    }
   ],
   "source": [
    "lbas = df['lba']\n",
    "\n",
    "# Count occurrences of each LBA\n",
    "lba_counts = lbas.value_counts()\n",
    "lba_counts\n",
    "# Plot the distribution\n",
    "# plt.figure(figsize=(10, 6))\n",
    "# lba_counts.plot(kind='bar')\n",
    "# plt.xlabel('LBA')\n",
    "# plt.ylabel('Frequency')\n",
    "# plt.title('LBA Distribution')\n",
    "# plt.show()"
   ]
  },
  {
   "cell_type": "code",
   "execution_count": 33,
   "metadata": {},
   "outputs": [
    {
     "data": {
      "text/html": [
       "<div>\n",
       "<style scoped>\n",
       "    .dataframe tbody tr th:only-of-type {\n",
       "        vertical-align: middle;\n",
       "    }\n",
       "\n",
       "    .dataframe tbody tr th {\n",
       "        vertical-align: top;\n",
       "    }\n",
       "\n",
       "    .dataframe thead th {\n",
       "        text-align: right;\n",
       "    }\n",
       "</style>\n",
       "<table border=\"1\" class=\"dataframe\">\n",
       "  <thead>\n",
       "    <tr style=\"text-align: right;\">\n",
       "      <th></th>\n",
       "      <th>io_s</th>\n",
       "    </tr>\n",
       "    <tr>\n",
       "      <th>lba</th>\n",
       "      <th></th>\n",
       "    </tr>\n",
       "  </thead>\n",
       "  <tbody>\n",
       "    <tr>\n",
       "      <th>0</th>\n",
       "      <td>4096</td>\n",
       "    </tr>\n",
       "    <tr>\n",
       "      <th>3407872</th>\n",
       "      <td>520192</td>\n",
       "    </tr>\n",
       "    <tr>\n",
       "      <th>3408888</th>\n",
       "      <td>520192</td>\n",
       "    </tr>\n",
       "    <tr>\n",
       "      <th>3408992</th>\n",
       "      <td>8192</td>\n",
       "    </tr>\n",
       "    <tr>\n",
       "      <th>3409008</th>\n",
       "      <td>4096</td>\n",
       "    </tr>\n",
       "    <tr>\n",
       "      <th>...</th>\n",
       "      <td>...</td>\n",
       "    </tr>\n",
       "    <tr>\n",
       "      <th>5809568</th>\n",
       "      <td>16384</td>\n",
       "    </tr>\n",
       "    <tr>\n",
       "      <th>5809600</th>\n",
       "      <td>16384</td>\n",
       "    </tr>\n",
       "    <tr>\n",
       "      <th>5809632</th>\n",
       "      <td>16384</td>\n",
       "    </tr>\n",
       "    <tr>\n",
       "      <th>67520</th>\n",
       "      <td>4096</td>\n",
       "    </tr>\n",
       "    <tr>\n",
       "      <th>7372672</th>\n",
       "      <td>65536</td>\n",
       "    </tr>\n",
       "  </tbody>\n",
       "</table>\n",
       "<p>270 rows × 1 columns</p>\n",
       "</div>"
      ],
      "text/plain": [
       "           io_s\n",
       "lba            \n",
       "0          4096\n",
       "3407872  520192\n",
       "3408888  520192\n",
       "3408992    8192\n",
       "3409008    4096\n",
       "...         ...\n",
       "5809568   16384\n",
       "5809600   16384\n",
       "5809632   16384\n",
       "67520      4096\n",
       "7372672   65536\n",
       "\n",
       "[270 rows x 1 columns]"
      ]
     },
     "execution_count": 33,
     "metadata": {},
     "output_type": "execute_result"
    }
   ],
   "source": [
    "# now create a graph based on count of each lba create a column with count\n",
    "glba = df.groupby('lba')\n",
    "\n",
    "glba.first()"
   ]
  },
  {
   "cell_type": "code",
   "execution_count": null,
   "metadata": {},
   "outputs": [],
   "source": []
  }
 ],
 "metadata": {
  "kernelspec": {
   "display_name": "Python 3",
   "language": "python",
   "name": "python3"
  },
  "language_info": {
   "codemirror_mode": {
    "name": "ipython",
    "version": 3
   },
   "file_extension": ".py",
   "mimetype": "text/x-python",
   "name": "python",
   "nbconvert_exporter": "python",
   "pygments_lexer": "ipython3",
   "version": "3.8.10"
  }
 },
 "nbformat": 4,
 "nbformat_minor": 2
}
