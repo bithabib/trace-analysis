{
 "cells": [
  {
   "cell_type": "code",
   "execution_count": 2,
   "metadata": {},
   "outputs": [],
   "source": [
    "import numpy as np\n",
    "import pandas as pd\n",
    "import matplotlib.pyplot as plt\n"
   ]
  },
  {
   "cell_type": "code",
   "execution_count": 4,
   "metadata": {},
   "outputs": [],
   "source": [
    "file_path = 'trace_files/trace.txt'\n",
    "write_trace_list = []\n",
    "with open(file_path, 'r', encoding='utf-8') as input_file:\n",
    "    \n",
    "    fields_name = ['lba', 'io_s']  \n",
    "    \n",
    "    while True:\n",
    "        return_line = {}\n",
    "        try:\n",
    "            line = next(input_file)\n",
    "            # line = next(input_file)\n",
    "            if not line:\n",
    "                break\n",
    "            line = line.rstrip('\\n')\n",
    "            line = line.strip()\n",
    "            line_split = line.split(' ')            \n",
    "            for index, field_value in enumerate(line_split):\n",
    "                return_line[fields_name[index]] = field_value\n",
    "            write_trace_list.append(return_line)\n",
    "        \n",
    "            \n",
    "        except StopIteration:\n",
    "            break"
   ]
  },
  {
   "cell_type": "code",
   "execution_count": 7,
   "metadata": {},
   "outputs": [
    {
     "name": "stdout",
     "output_type": "stream",
     "text": [
      "[{'lba': '3864', 'io_s': '4096'}, {'lba': '67520', 'io_s': '4096'}, {'lba': '3407872', 'io_s': '520192'}, {'lba': '3408888', 'io_s': '520192'}]\n"
     ]
    }
   ],
   "source": [
    "print(write_trace_list[1:5])\n",
    "# convert list to dataframe\n",
    "df = pd.DataFrame(write_trace_list)"
   ]
  }
 ],
 "metadata": {
  "kernelspec": {
   "display_name": "Python 3",
   "language": "python",
   "name": "python3"
  },
  "language_info": {
   "codemirror_mode": {
    "name": "ipython",
    "version": 3
   },
   "file_extension": ".py",
   "mimetype": "text/x-python",
   "name": "python",
   "nbconvert_exporter": "python",
   "pygments_lexer": "ipython3",
   "version": "3.8.10"
  }
 },
 "nbformat": 4,
 "nbformat_minor": 2
}
