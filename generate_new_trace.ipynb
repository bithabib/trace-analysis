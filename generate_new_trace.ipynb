{
 "cells": [
  {
   "cell_type": "code",
   "execution_count": 1,
   "metadata": {},
   "outputs": [],
   "source": [
    "import numpy as np\n",
    "import pandas as pd\n",
    "import matplotlib.pyplot as plt"
   ]
  },
  {
   "cell_type": "code",
   "execution_count": 2,
   "metadata": {},
   "outputs": [
    {
     "name": "stdout",
     "output_type": "stream",
     "text": [
      "done\n"
     ]
    }
   ],
   "source": [
    "file_path = 'trace_files/v5/habib_trace/uniform_random_1598512'\n",
    "write_trace_list = []\n",
    "with open(file_path, 'r', encoding='utf-8') as input_file:\n",
    "    \n",
    "    # read the line until 2198512\n",
    "    for i in range(1598512):\n",
    "        line = input_file.readline()\n",
    "        # add read and write operation to the line\n",
    "        line = 'W ' + line\n",
    "        write_trace_list.append(line)\n",
    "    # save the write_trace_list to a txt file\n",
    "    with open('trace_files/v5/habib_trace/uniform_random_1598512_8', 'w', encoding='utf-8') as output_file:\n",
    "        output_file.writelines(write_trace_list)\n",
    "        output_file.close()\n",
    "    input_file.close()\n",
    "print('done')"
   ]
  },
  {
   "cell_type": "code",
   "execution_count": null,
   "metadata": {},
   "outputs": [],
   "source": []
  }
 ],
 "metadata": {
  "kernelspec": {
   "display_name": "Python 3",
   "language": "python",
   "name": "python3"
  },
  "language_info": {
   "codemirror_mode": {
    "name": "ipython",
    "version": 3
   },
   "file_extension": ".py",
   "mimetype": "text/x-python",
   "name": "python",
   "nbconvert_exporter": "python",
   "pygments_lexer": "ipython3",
   "version": "3.8.10"
  }
 },
 "nbformat": 4,
 "nbformat_minor": 2
}
